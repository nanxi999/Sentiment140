{
 "cells": [
  {
   "cell_type": "code",
   "execution_count": 1,
   "id": "7d4ac576",
   "metadata": {
    "scrolled": false
   },
   "outputs": [
    {
     "name": "stderr",
     "output_type": "stream",
     "text": [
      "[nltk_data] Downloading package wordnet to\n",
      "[nltk_data]     C:\\Users\\yt248\\AppData\\Roaming\\nltk_data...\n",
      "[nltk_data]   Package wordnet is already up-to-date!\n",
      "[nltk_data] Downloading package omw-1.4 to\n",
      "[nltk_data]     C:\\Users\\yt248\\AppData\\Roaming\\nltk_data...\n",
      "[nltk_data]   Package omw-1.4 is already up-to-date!\n"
     ]
    }
   ],
   "source": [
    "import matplotlib.pyplot as plt\n",
    "import pandas as pd\n",
    "import numpy as np\n",
    "\n",
    "np.random.seed(42)\n",
    "\n",
    "from collections import Counter\n",
    "\n",
    "import re\n",
    "import nltk\n",
    "nltk.download('wordnet')\n",
    "nltk.download('omw-1.4')\n",
    "from nltk.stem import SnowballStemmer, WordNetLemmatizer"
   ]
  },
  {
   "attachments": {},
   "cell_type": "markdown",
   "id": "8b48e77d",
   "metadata": {},
   "source": [
    "## Data Preprocessing"
   ]
  },
  {
   "cell_type": "code",
   "execution_count": 2,
   "id": "810b8464",
   "metadata": {
    "scrolled": false
   },
   "outputs": [
    {
     "data": {
      "image/png": "[encoded data removed]",
      "text/plain": [
       "<Figure size 640x480 with 1 Axes>"
      ]
     },
     "metadata": {},
     "output_type": "display_data"
    }
   ],
   "source": [
    "df = pd.read_csv('training.300000.processed.noemoticon.csv')\n",
    "\n",
    "# drop unused columns\n",
    "df = df.drop(['id', 'date', 'query', 'username'], axis=1)\n",
    "\n",
    "# get classes distribution diagram\n",
    "unique, counts = np.unique(df['sentiment'], return_counts=True)\n",
    "\n",
    "plt.bar(unique, counts)\n",
    "plt.title('Distribution of Sentiment')\n",
    "plt.ylabel('Number of Occurrences')\n",
    "\n",
    "plt.show()"
   ]
  },
  {
   "attachments": {},
   "cell_type": "markdown",
   "id": "f20e0931",
   "metadata": {},
   "source": [
    "### Mapping target to numeric"
   ]
  },
  {
   "cell_type": "code",
   "execution_count": 3,
   "id": "4624ef59",
   "metadata": {},
   "outputs": [],
   "source": [
    "df['sentiment'] = df['sentiment'].apply(lambda x: 0 if x == 0 else 1)"
   ]
  },
  {
   "cell_type": "code",
   "execution_count": 4,
   "id": "de735c2d",
   "metadata": {},
   "outputs": [
    {
     "data": {
      "text/plain": [
       "sentiment    0\n",
       "text         0\n",
       "dtype: int64"
      ]
     },
     "execution_count": 4,
     "metadata": {},
     "output_type": "execute_result"
    }
   ],
   "source": [
    "df.isnull().sum()"
   ]
  },
  {
   "cell_type": "code",
   "execution_count": 5,
   "id": "58f9f42a",
   "metadata": {},
   "outputs": [],
   "source": [
    "from textblob import Word\n",
    "\n",
    "# print(df.text)\n",
    "stemmer = SnowballStemmer('english')\n",
    "lemmatizer = WordNetLemmatizer()\n",
    "\n",
    "# @\\S+:           any word that starts with @, refers to a user\n",
    "# https?:\\S+:     any URL that starts with http:// or https://\n",
    "# [^A-Za-z0-9]+   punctuation marks or special characters\n",
    "text_cleaning_re = \"@\\S+|https?:\\S+|http?:\\S|[^A-Za-z0-9]+\"\n",
    "\n",
    "stopwordlist = ['a', 'about', 'above', 'after', 'again', 'ain', 'all', 'am', 'an',\n",
    "             'and','any','are', 'as', 'at', 'be', 'because', 'been', 'before',\n",
    "             'being', 'below', 'between','both', 'by', 'can', 'd', 'did', 'do',\n",
    "             'does', 'doing', 'down', 'during', 'each','few', 'for', 'from', \n",
    "             'further', 'had', 'has', 'have', 'having', 'he', 'her', 'here',\n",
    "             'hers', 'herself', 'him', 'himself', 'his', 'how', 'i', 'if', 'in',\n",
    "             'into','is', 'it', 'its', 'itself', 'just', 'll', 'm', 'ma',\n",
    "             'me', 'more', 'most','my', 'myself', 'now', 'o', 'of', 'on', 'once',\n",
    "             'only', 'or', 'other', 'our', 'ours','ourselves', 'out', 'own', 're',\n",
    "             's', 'same', 'she', \"shes\", 'should', \"shouldve\",'so', 'some', 'such',\n",
    "             't', 'than', 'that', \"thatll\", 'the', 'their', 'theirs', 'them',\n",
    "             'themselves', 'then', 'there', 'these', 'they', 'this', 'those', \n",
    "             'through', 'to', 'too','under', 'until', 'up', 've', 'very', 'was',\n",
    "             'we', 'were', 'what', 'when', 'where','which','while', 'who', 'whom',\n",
    "             'why', 'will', 'with', 'won', 'y', 'you', \"youd\",\"youll\", \"youre\",\n",
    "             \"youve\", 'your', 'yours', 'yourself', 'yourselves']\n",
    "\n",
    "def preprocess(text):\n",
    "    text = str(text).lower()\n",
    "\n",
    "    tokens = []\n",
    "\n",
    "    # replace words with repeated chars\n",
    "    rx = re.compile(r'([^\\W\\d_])\\1{2,}')\n",
    "    text = re.sub(r'[^\\W\\d_]+', lambda x: Word(rx.sub(r'\\1\\1', x.group())).correct() if rx.search(x.group()) else x.group(), text)\n",
    "\n",
    "    # Replace reqular expression with ' '\n",
    "    text = re.sub(text_cleaning_re, ' ', text).strip()\n",
    "    \n",
    "    for token in text.split():\n",
    "        if token not in stopwordlist:\n",
    "            if len(token)>1:\n",
    "                token = stemmer.stem(token)\n",
    "                token = lemmatizer.lemmatize(token)\n",
    "                tokens.append(token)    \n",
    "\n",
    "    # token_counts = Counter(tokens)\n",
    "    # min_occurrences = 2\n",
    "    # tokens = [token for token in tokens if token_counts[token] >= min_occurrences]\n",
    "\n",
    "    return \" \".join(tokens)\n",
    "\n",
    "df.text = df.text.apply(lambda x: preprocess(x))\n",
    "\n",
    "#df['text'].to_csv('output_file.csv', index=False)"
   ]
  },
  {
   "cell_type": "code",
   "execution_count": 6,
   "id": "424e9c81",
   "metadata": {},
   "outputs": [
    {
     "name": "stdout",
     "output_type": "stream",
     "text": [
      "Longest word: 80\n"
     ]
    }
   ],
   "source": [
    "def find_longest_word():\n",
    "    longest_word = ''\n",
    "    for sentence in df['text']:\n",
    "        for word in sentence.split():\n",
    "            if len(word) > len(longest_word):\n",
    "                longest_word = word\n",
    "    length = len(longest_word)\n",
    "    return longest_word, length\n",
    "\n",
    "# Find the longest word in the 'text' column of the dataframe\n",
    "longest_word, MAX_LENGTH= find_longest_word()\n",
    "print('Longest word:', str(MAX_LENGTH))\n"
   ]
  },
  {
   "cell_type": "code",
   "execution_count": 7,
   "id": "26aa3c70",
   "metadata": {},
   "outputs": [
    {
     "name": "stdout",
     "output_type": "stream",
     "text": [
      "X_train.shape: (243000,)\n",
      "X_valid.shape: (27000,)\n",
      "X_test.shape : (30000,)\n"
     ]
    }
   ],
   "source": [
    "from sklearn.model_selection import train_test_split\n",
    "X_train_full, X_test, y_train_full, y_test = train_test_split(df['text'], df['sentiment'], train_size=0.9, random_state=42)\n",
    "X_train, X_valid, y_train, y_valid = train_test_split(X_train_full, y_train_full, train_size=0.9, random_state=42)\n",
    "\n",
    "print(\"X_train.shape:\", X_train.shape)\n",
    "print(\"X_valid.shape:\", X_valid.shape)\n",
    "print(\"X_test.shape :\", X_test.shape)"
   ]
  },
  {
   "attachments": {},
   "cell_type": "markdown",
   "id": "fef4339b",
   "metadata": {},
   "source": [
    "### Word Embedding"
   ]
  },
  {
   "cell_type": "code",
   "execution_count": 8,
   "id": "0fe9df63",
   "metadata": {
    "scrolled": true
   },
   "outputs": [
    {
     "name": "stdout",
     "output_type": "stream",
     "text": [
      "Vocabulary Length: 28056\n"
     ]
    }
   ],
   "source": [
    "from gensim.models import Word2Vec\n",
    "\n",
    "Embedding_dimensions = 100\n",
    "\n",
    "# List of words\n",
    "Word2vec_train_data = list(map(lambda x: x.split(), X_train))\n",
    "\n",
    "word2vec_model = Word2Vec(Word2vec_train_data,\n",
    "                 vector_size=Embedding_dimensions,\n",
    "                 workers=8,\n",
    "                 min_count=2,\n",
    "                 sg=0)\n",
    "\n",
    "print(\"Vocabulary Length:\", len(word2vec_model.wv.key_to_index))"
   ]
  },
  {
   "attachments": {},
   "cell_type": "markdown",
   "id": "dbc92e16",
   "metadata": {},
   "source": [
    "### Tokenization"
   ]
  },
  {
   "cell_type": "code",
   "execution_count": 9,
   "id": "e6aeaf43",
   "metadata": {
    "scrolled": false
   },
   "outputs": [
    {
     "name": "stdout",
     "output_type": "stream",
     "text": [
      "Vocabulary Size : 76824\n"
     ]
    }
   ],
   "source": [
    "from keras.preprocessing.text import Tokenizer\n",
    "\n",
    "tokenizer = Tokenizer(filters=\"\", lower=False, oov_token=\"<oov>\")\n",
    "\n",
    "# tokenizer only fit on X_train to avoid information leak\n",
    "tokenizer.fit_on_texts(X_train)\n",
    "word_index = tokenizer.word_index\n",
    "vocab_size = len(tokenizer.word_index) + 1\n",
    "\n",
    "print(\"Vocabulary Size :\", vocab_size)"
   ]
  },
  {
   "attachments": {},
   "cell_type": "markdown",
   "id": "5c07c6b5",
   "metadata": {},
   "source": [
    "### Padding"
   ]
  },
  {
   "cell_type": "code",
   "execution_count": 10,
   "id": "67dd09b9",
   "metadata": {
    "scrolled": true
   },
   "outputs": [
    {
     "name": "stdout",
     "output_type": "stream",
     "text": [
      "X_train.shape: (243000, 80)\n",
      "X_valid.shape: (27000, 80)\n",
      "X_test.shape : (30000, 80)\n"
     ]
    }
   ],
   "source": [
    "from keras.utils import pad_sequences\n",
    "\n",
    "# Padding to length of longest word\n",
    "X_train = pad_sequences(tokenizer.texts_to_sequences(X_train), maxlen = MAX_LENGTH)\n",
    "X_valid = pad_sequences(tokenizer.texts_to_sequences(X_valid), maxlen = MAX_LENGTH)\n",
    "X_test = pad_sequences(tokenizer.texts_to_sequences(X_test), maxlen = MAX_LENGTH)\n",
    "\n",
    "print(\"X_train.shape:\", X_train.shape)\n",
    "print(\"X_valid.shape:\", X_valid.shape)\n",
    "print(\"X_test.shape :\", X_test.shape)"
   ]
  },
  {
   "cell_type": "code",
   "execution_count": 11,
   "id": "74a2f61d",
   "metadata": {},
   "outputs": [
    {
     "name": "stdout",
     "output_type": "stream",
     "text": [
      "Embedding Matrix Shape: (76824, 100)\n"
     ]
    }
   ],
   "source": [
    "embedding_matrix = np.zeros((vocab_size, Embedding_dimensions))\n",
    "\n",
    "for word, token in tokenizer.word_index.items():\n",
    "    if word in word2vec_model.wv:\n",
    "        # initial weight of the embedding layer\n",
    "        embedding_matrix[token] = word2vec_model.wv[word]\n",
    "\n",
    "print(\"Embedding Matrix Shape:\", embedding_matrix.shape)"
   ]
  },
  {
   "attachments": {},
   "cell_type": "markdown",
   "id": "816fb692",
   "metadata": {},
   "source": [
    "## LSTM"
   ]
  },
  {
   "cell_type": "code",
   "execution_count": 12,
   "id": "83e0b866",
   "metadata": {},
   "outputs": [
    {
     "name": "stdout",
     "output_type": "stream",
     "text": [
      "Trial 10 Complete [00h 07m 05s]\n",
      "val_accuracy: 0.7923703789710999\n",
      "\n",
      "Best val_accuracy So Far: 0.7959259152412415\n",
      "Total elapsed time: 01h 09m 33s\n",
      "INFO:tensorflow:Oracle triggered exit\n",
      "Best hyperparameters: {'lstm_units': 256, 'dropout_rate': 0.2, 'learning_rate': 0.001}\n"
     ]
    }
   ],
   "source": [
    "import tensorflow as tf\n",
    "\n",
    "from tensorflow.keras import Sequential\n",
    "from tensorflow.keras.layers import Dense\n",
    "\n",
    "from tensorflow import keras\n",
    "from tensorflow.keras import layers\n",
    "from kerastuner.tuners import RandomSearch\n",
    "\n",
    "import os\n",
    "os.environ['CUDA_VISIBLE_DEVICES'] = '0'    #run on GPU 0\n",
    "\n",
    "def build_model(hp):\n",
    "    model = Sequential()\n",
    "\n",
    "    model.add(layers.Embedding(input_dim=vocab_size,\n",
    "                               output_dim=Embedding_dimensions,\n",
    "                               weights=[embedding_matrix],\n",
    "                               input_length=MAX_LENGTH,\n",
    "                               trainable=True))       # Do not freeze the weight of embedding layer\n",
    "    model.add(layers.LSTM(units=hp.Choice('lstm_units', values=[128, 256])))\n",
    "    model.add(layers.Dropout(rate=hp.Choice('dropout_rate', values=[0.2, 0.5, 0.8])))\n",
    "    model.add(Dense(1, activation='sigmoid'))\n",
    "    optimizer = tf.keras.optimizers.Adam(learning_rate=hp.Choice('learning_rate', values=[0.001, 0.01, 0.1]))\n",
    "\n",
    "    model.compile(loss='binary_crossentropy', optimizer=optimizer, metrics = ['accuracy'])\n",
    "    return model\n",
    "\n",
    "with tf.device('/GPU:0'):\n",
    "    stop_early = keras.callbacks.EarlyStopping(monitor='val_accuracy', patience=0)\n",
    "\n",
    "    tuner = RandomSearch(build_model, objective='val_accuracy', max_trials=10, executions_per_trial=1)\n",
    "    tuner.search(X_train, y_train, validation_data=(X_valid, y_valid), epochs=10, batch_size=512, callbacks=[stop_early])\n",
    "\n",
    "    best_model = tuner.get_best_models(num_models=1)[0]\n",
    "    best_hyperparameters = tuner.get_best_hyperparameters(1)[0]\n",
    "    print(f\"Best hyperparameters: {best_hyperparameters.values}\")\n"
   ]
  },
  {
   "cell_type": "code",
   "execution_count": 13,
   "id": "270e2455",
   "metadata": {},
   "outputs": [
    {
     "name": "stdout",
     "output_type": "stream",
     "text": [
      "938/938 [==============================] - 20s 21ms/step\n"
     ]
    }
   ],
   "source": [
    "y_pred = best_model.predict(X_test)"
   ]
  },
  {
   "cell_type": "code",
   "execution_count": 14,
   "id": "0395e4ee",
   "metadata": {},
   "outputs": [
    {
     "data": {
      "text/plain": [
       "array([[11945,  3054],\n",
       "       [ 2944, 12057]], dtype=int64)"
      ]
     },
     "execution_count": 14,
     "metadata": {},
     "output_type": "execute_result"
    }
   ],
   "source": [
    "from sklearn.metrics import confusion_matrix, classification_report\n",
    "y_pred = np.where(y_pred>=0.5, 1, 0)\n",
    "confusion_matrix(y_pred, y_test)"
   ]
  },
  {
   "cell_type": "code",
   "execution_count": 15,
   "id": "2f4986e4",
   "metadata": {},
   "outputs": [
    {
     "name": "stdout",
     "output_type": "stream",
     "text": [
      "              precision    recall  f1-score   support\n",
      "\n",
      "           0       0.80      0.80      0.80     14889\n",
      "           1       0.80      0.80      0.80     15111\n",
      "\n",
      "    accuracy                           0.80     30000\n",
      "   macro avg       0.80      0.80      0.80     30000\n",
      "weighted avg       0.80      0.80      0.80     30000\n",
      "\n"
     ]
    }
   ],
   "source": [
    "print(classification_report(y_test, y_pred))"
   ]
  },
  {
   "cell_type": "code",
   "execution_count": 16,
   "id": "eab2b5ad",
   "metadata": {},
   "outputs": [
    {
     "name": "stdout",
     "output_type": "stream",
     "text": [
      "7594/7594 [==============================] - 152s 20ms/step - loss: 0.3620 - accuracy: 0.8406\n",
      "Training Loss: 0.3620239496231079\n",
      "Training Accuracy: 0.8405596613883972\n"
     ]
    }
   ],
   "source": [
    "score = best_model.evaluate(X_train, y_train)\n",
    "print(\"Training Loss:\", score[0])\n",
    "print(\"Training Accuracy:\", score[1])"
   ]
  },
  {
   "cell_type": "code",
   "execution_count": null,
   "id": "27e0bca5",
   "metadata": {},
   "outputs": [],
   "source": []
  }
 ],
 "metadata": {
  "kernelspec": {
   "display_name": "Python 3 (ipykernel)",
   "language": "python",
   "name": "python3"
  },
  "language_info": {
   "codemirror_mode": {
    "name": "ipython",
    "version": 3
   },
   "file_extension": ".py",
   "mimetype": "text/x-python",
   "name": "python",
   "nbconvert_exporter": "python",
   "pygments_lexer": "ipython3",
   "version": "3.11.3"
  }
 },
 "nbformat": 4,
 "nbformat_minor": 5
}
